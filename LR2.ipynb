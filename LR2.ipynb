{
  "nbformat": 4,
  "nbformat_minor": 0,
  "metadata": {
    "colab": {
      "provenance": [],
      "collapsed_sections": []
    },
    "kernelspec": {
      "name": "python3",
      "display_name": "Python 3"
    },
    "language_info": {
      "name": "python"
    }
  },
  "cells": [
    {
      "cell_type": "code",
      "source": [
        "#Обучающая выборка (идеальное изображение букв)\n",
        "letter0 = list('1111110001111111000110001') #буква А\n",
        "letter1 = list('1111110000111111000111111') #буква Б\n",
        "letter2 = list('1111010001111101000111110') #буква В\n",
        "letter3 = list('1111110000100001000010000') #буква Г\n",
        "letter4 = list('0111001010010101111110001') #буква Д\n",
        "letter5 = list('1111110000111111000011111') #буква Е\n",
        "letter6 = list('1010110101111111010110101') #буква Ж\n",
        "letter7 = list('1111100001111110000111111') #буква З\n",
        "letter8 = list('1000110011101011100110001') #буква И\n",
        "letter9 = list('1001010100110001010010010') #буква К\n",
        "letter10 = list('0011001001010010100111001') #буква Л\n",
        "letter11 = list('1000111011101011000110001') #буква М\n",
        "letter12 = list('1000110001111111000110001') #буква Н\n",
        "letter13 = list('1111110001100011000111111') #буква О\n",
        "letter14 = list('1111110001100011000110001') #буква П\n",
        "letter15 = list('1111010001111101000010000') #буква Р\n",
        "letter16 = list('1111110000100001000011111') #буква С\n",
        "letter17 = list('1111100100001000010000100') #буква Т\n",
        "letter18 = list('1000110001111110000111111') #буква У\n",
        "letter19 = list('1111110101111110010000100') #буква Ф\n",
        "letter20 = list('1000101010001000101010001') #буква Х\n",
        "letter21 = list('1001010010100101111100001') #буква Ц\n",
        "letter22 = list('1000110001111110000100001') #буква Ч\n",
        "letter23 = list('1010110101101011010111111') #буква Ш\n",
        "letter24 = list('1000110001111011010111101') #буква Ы\n",
        "letter25 = list('0111010001001111000101110') #буква Э\n",
        "letter26 = list('1011110101111011010110111') #буква Ю\n",
        "letter27 = list('0111110001011110010111001') #буква Я\n",
        "\n",
        "#Список всех букв\n",
        "letters = [letter0, letter1, letter2, letter3, letter4, letter5, letter6, letter7, letter8, letter9, letter10, letter11, letter12, letter13, letter14, letter15, letter16, letter17, letter18, letter19, letter20, letter21, letter22, letter23, letter24, letter25, letter26, letter27]\n"
      ],
      "metadata": {
        "id": "Ete-DXVfDhVd"
      },
      "execution_count": 2,
      "outputs": []
    },
    {
      "cell_type": "code",
      "source": [
        "import random\n",
        "import numpy as np\n",
        "# 23 = Ш   17 = Т   24 = Ы   9 = Л   0 = A\n",
        "tema = np.array([23, 17, 24, 9, 0]) # Буква Ш\n",
        "n_sensor = 25\n",
        "weights = [0 for i in range(n_sensor)] # Обнуление весов"
      ],
      "metadata": {
        "id": "Yk1HW-UbWWal"
      },
      "execution_count": 3,
      "outputs": []
    },
    {
      "cell_type": "code",
      "source": [
        "# Функция определяет, является ли полученное изображение буквой Ш\n",
        "# Возвращает \"Да\", если признано, что это Ш. Возвращает \"Нет\", если нет\n",
        "\n",
        "def perceptron (Sensor):\n",
        "  b = 7 # Порог функции активации \n",
        "  s = 0 # Начальное значение суммы\n",
        "  for i in range(n_sensor): # Цикл суммирования сигналов от сенсоров\n",
        "    s += int(Sensor[i]) * weights[i]\n",
        "    if s >= b:\n",
        "      return True # Сумма превысила порог\n",
        "    else:\n",
        "        return False # Сумма меньше порога"
      ],
      "metadata": {
        "id": "TsCjRj-wYc4y"
      },
      "execution_count": 4,
      "outputs": []
    },
    {
      "cell_type": "code",
      "source": [
        "# Уменьшение значений весов\n",
        "# Если сеть ошиблась и выдала \"Да\"\n",
        "\n",
        "def decrease(number):\n",
        "  for i in range(n_sensor):\n",
        "    if int(number[i]) == 1: # Возбужденный ли вход\n",
        "      weights[i] -= 1 # Уменьшаем связанный с входом вес на единицу"
      ],
      "metadata": {
        "id": "5_a78b_VZm_F"
      },
      "execution_count": 5,
      "outputs": []
    },
    {
      "cell_type": "code",
      "source": [
        "# Увеличение значений весов\n",
        "# Если сеть не ошиблась и выдала \"Да\"\n",
        "\n",
        "def increase(number):\n",
        "  for i in range(n_sensor):\n",
        "    if int(number[i]) == 1: # Возбужденный ли вход\n",
        "      weights[i] += 1 # Увеличиваем связанный с входом вес на единицу"
      ],
      "metadata": {
        "id": "oOpYB2wsb-kc"
      },
      "execution_count": 6,
      "outputs": []
    },
    {
      "cell_type": "code",
      "source": [
        "# Тренировка сети\n",
        "weights = [0 for i in range(n_sensor)] # Обнуление весов\n",
        "n = 1 # Количество уроков\n",
        "for i in range(n):\n",
        "  for k in range(5):\n",
        "    j = random.randint(0, 27) # Генерируем случайное число j \n",
        "    r = perceptron(letters[j]) # Результат обращения к сумматору\n",
        "                              # ответ - \"Да\" или \"Нет\"\n",
        "    if j != tema[k]: # Если генератор выдал число, не равное 23\n",
        "      if r: # Если сумматор сказал \"Да\", а j не 23. Ошибся\n",
        "        decrease(letters[j]) # Наказываем сеть (уменьшаем значение весов)\n",
        "    else: # Если генератор выдал число, равное 23\n",
        "      if not r: # Если сумматор сказал \"Нет\", а j = 23. Не ошибся\n",
        "        increase(letters[tema[k]]) # Поощеряем сеть (увеличиваем значение весов)\n",
        "\n",
        "print(weights)"
      ],
      "metadata": {
        "colab": {
          "base_uri": "https://localhost:8080/"
        },
        "id": "XixacUiUcNfo",
        "outputId": "9119e673-5cde-431b-e6b6-09cf3377c250"
      },
      "execution_count": 9,
      "outputs": [
        {
          "output_type": "stream",
          "name": "stdout",
          "text": [
            "[1, 1, 1, 1, 1, 1, 0, 0, 0, 1, 1, 1, 1, 1, 1, 1, 0, 0, 0, 1, 1, 0, 0, 0, 1]\n"
          ]
        }
      ]
    },
    {
      "cell_type": "code",
      "source": [
        "# 23 = Ш   17 = Т   24 = Ы   9 = K   0 = A\n",
        "print (j)\n",
        "print(weights)"
      ],
      "metadata": {
        "colab": {
          "base_uri": "https://localhost:8080/"
        },
        "id": "EdABjYJzdOW_",
        "outputId": "f3829c87-5915-4fe2-d460-025e69b0de76"
      },
      "execution_count": 10,
      "outputs": [
        {
          "output_type": "stream",
          "name": "stdout",
          "text": [
            "0\n",
            "[1, 1, 1, 1, 1, 1, 0, 0, 0, 1, 1, 1, 1, 1, 1, 1, 0, 0, 0, 1, 1, 0, 0, 0, 1]\n"
          ]
        }
      ]
    },
    {
      "cell_type": "code",
      "source": [],
      "metadata": {
        "id": "thN-LkrslxuK"
      },
      "execution_count": 8,
      "outputs": []
    }
  ]
}