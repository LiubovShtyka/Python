{
  "nbformat": 4,
  "nbformat_minor": 0,
  "metadata": {
    "colab": {
      "provenance": [],
      "collapsed_sections": [
        "M74SLxYrobTd",
        "EySJK3NVp0ty",
        "xbdI77r7v0d_",
        "8OWD2yuXeD3R",
        "VTdHg51Lhvnv",
        "TE90tWvfiIUs",
        "YtrAlgbzjzbr",
        "D7DmkQl_qYbG"
      ]
    },
    "kernelspec": {
      "name": "python3",
      "display_name": "Python 3"
    },
    "language_info": {
      "name": "python"
    }
  },
  "cells": [
    {
      "cell_type": "markdown",
      "metadata": {
        "id": "M74SLxYrobTd"
      },
      "source": [
        "#**Работа с модулями**"
      ]
    },
    {
      "cell_type": "markdown",
      "metadata": {
        "id": "PYT8L3hGoobT"
      },
      "source": [
        "1. Подключить модуль `random` и `datetime`. Модулю `random` дать псевдоним `rnd`:"
      ]
    },
    {
      "cell_type": "code",
      "metadata": {
        "id": "IQUypBjfoUlP"
      },
      "source": [
        "import random as rnd\n",
        "import datetime"
      ],
      "execution_count": null,
      "outputs": []
    },
    {
      "cell_type": "markdown",
      "metadata": {
        "id": "O28wSqx3o0xZ"
      },
      "source": [
        "2. Из модуля `os` импортировать функцию `path`:"
      ]
    },
    {
      "cell_type": "code",
      "metadata": {
        "id": "HWxllqc3pHfY"
      },
      "source": [
        "from os import path"
      ],
      "execution_count": null,
      "outputs": []
    },
    {
      "cell_type": "markdown",
      "metadata": {
        "id": "dcp3_iXVpHtP"
      },
      "source": [
        "Импортировать всё что возможно из модуля `math`:"
      ]
    },
    {
      "cell_type": "code",
      "metadata": {
        "id": "_FzXmUgSp0XT"
      },
      "source": [
        "from math import*"
      ],
      "execution_count": null,
      "outputs": []
    },
    {
      "cell_type": "markdown",
      "metadata": {
        "id": "EySJK3NVp0ty"
      },
      "source": [
        "# **Установка библиотек**"
      ]
    },
    {
      "cell_type": "markdown",
      "metadata": {
        "id": "uMgqyxqHqXgA"
      },
      "source": [
        "Для выполнения консольного кода, необходимо ставить восклицательный знак (!) в чалало строки. Например команда для проверки пути к питону будет выглядеть так: `!which python`"
      ]
    },
    {
      "cell_type": "markdown",
      "metadata": {
        "id": "asW01Je2p6qx"
      },
      "source": [
        "1. Удалить пакет `opencv-python`:"
      ]
    },
    {
      "cell_type": "code",
      "metadata": {
        "id": "StlPFJ6rp6J5",
        "colab": {
          "base_uri": "https://localhost:8080/"
        },
        "outputId": "2e24e304-43fb-4a64-e2a1-e9883a95cd1a"
      },
      "source": [
        "!pip uninstall -y opencv-python"
      ],
      "execution_count": null,
      "outputs": [
        {
          "output_type": "stream",
          "name": "stdout",
          "text": [
            "Found existing installation: opencv-python 4.6.0.66\n",
            "Uninstalling opencv-python-4.6.0.66:\n",
            "  Successfully uninstalled opencv-python-4.6.0.66\n"
          ]
        }
      ]
    },
    {
      "cell_type": "markdown",
      "metadata": {
        "id": "3wvWAlo7q1nv"
      },
      "source": [
        "2. Установить пакет `opencv-python` с версией 4.2.0.32:"
      ]
    },
    {
      "cell_type": "code",
      "metadata": {
        "id": "M7Des-SDrCK5",
        "colab": {
          "base_uri": "https://localhost:8080/"
        },
        "outputId": "a5692581-c214-4a89-b88d-c58cf16b17ff"
      },
      "source": [
        "pip install -v opencv-python == 4.2.0.32"
      ],
      "execution_count": null,
      "outputs": [
        {
          "output_type": "stream",
          "name": "stdout",
          "text": [
            "Using pip 21.1.3 from /usr/local/lib/python3.7/dist-packages/pip (python 3.7)\n",
            "Value for scheme.platlib does not match. Please report this to <https://github.com/pypa/pip/issues/9617>\n",
            "distutils: /usr/local/lib/python3.7/dist-packages\n",
            "sysconfig: /usr/lib/python3.7/site-packages\n",
            "Value for scheme.purelib does not match. Please report this to <https://github.com/pypa/pip/issues/9617>\n",
            "distutils: /usr/local/lib/python3.7/dist-packages\n",
            "sysconfig: /usr/lib/python3.7/site-packages\n",
            "Value for scheme.headers does not match. Please report this to <https://github.com/pypa/pip/issues/9617>\n",
            "distutils: /usr/local/include/python3.7/UNKNOWN\n",
            "sysconfig: /usr/include/python3.7m/UNKNOWN\n",
            "Value for scheme.scripts does not match. Please report this to <https://github.com/pypa/pip/issues/9617>\n",
            "distutils: /usr/local/bin\n",
            "sysconfig: /usr/bin\n",
            "Value for scheme.data does not match. Please report this to <https://github.com/pypa/pip/issues/9617>\n",
            "distutils: /usr/local\n",
            "sysconfig: /usr\n",
            "Additional context:\n",
            "user = False\n",
            "home = None\n",
            "root = None\n",
            "prefix = None\n",
            "Non-user install because site-packages writeable\n",
            "Created temporary directory: /tmp/pip-ephem-wheel-cache-07mbd_y7\n",
            "Created temporary directory: /tmp/pip-req-tracker-89ccx8vs\n",
            "Initialized build tracking at /tmp/pip-req-tracker-89ccx8vs\n",
            "Created build tracker: /tmp/pip-req-tracker-89ccx8vs\n",
            "Entered build tracker: /tmp/pip-req-tracker-89ccx8vs\n",
            "Created temporary directory: /tmp/pip-install-bh8ko4j2\n",
            "\u001b[31mERROR: Invalid requirement: '=='\u001b[0m\n",
            "Exception information:\n",
            "Traceback (most recent call last):\n",
            "  File \"/usr/local/lib/python3.7/dist-packages/pip/_vendor/packaging/requirements.py\", line 113, in __init__\n",
            "    req = REQUIREMENT.parseString(requirement_string)\n",
            "  File \"/usr/local/lib/python3.7/dist-packages/pip/_vendor/pyparsing.py\", line 1955, in parseString\n",
            "    raise exc\n",
            "  File \"/usr/local/lib/python3.7/dist-packages/pip/_vendor/pyparsing.py\", line 3250, in parseImpl\n",
            "    raise ParseException(instring, loc, self.errmsg, self)\n",
            "pip._vendor.pyparsing.ParseException: Expected W:(abcd...), found '='  (at char 0), (line:1, col:1)\n",
            "\n",
            "During handling of the above exception, another exception occurred:\n",
            "\n",
            "Traceback (most recent call last):\n",
            "  File \"/usr/local/lib/python3.7/dist-packages/pip/_internal/req/constructors.py\", line 340, in _parse_req_string\n",
            "    req = Requirement(req_as_string)\n",
            "  File \"/usr/local/lib/python3.7/dist-packages/pip/_vendor/packaging/requirements.py\", line 117, in __init__\n",
            "    requirement_string[e.loc : e.loc + 8], e.msg\n",
            "pip._vendor.packaging.requirements.InvalidRequirement: Parse error at \"'=='\": Expected W:(abcd...)\n",
            "\n",
            "During handling of the above exception, another exception occurred:\n",
            "\n",
            "Traceback (most recent call last):\n",
            "  File \"/usr/local/lib/python3.7/dist-packages/pip/_internal/cli/base_command.py\", line 180, in _main\n",
            "    status = self.run(options, args)\n",
            "  File \"/usr/local/lib/python3.7/dist-packages/pip/_internal/cli/req_command.py\", line 199, in wrapper\n",
            "    return func(self, options, args)\n",
            "  File \"/usr/local/lib/python3.7/dist-packages/pip/_internal/commands/install.py\", line 289, in run\n",
            "    reqs = self.get_requirements(args, options, finder, session)\n",
            "  File \"/usr/local/lib/python3.7/dist-packages/pip/_internal/cli/req_command.py\", line 370, in get_requirements\n",
            "    user_supplied=True,\n",
            "  File \"/usr/local/lib/python3.7/dist-packages/pip/_internal/req/constructors.py\", line 393, in install_req_from_line\n",
            "    parts = parse_req_from_line(name, line_source)\n",
            "  File \"/usr/local/lib/python3.7/dist-packages/pip/_internal/req/constructors.py\", line 369, in parse_req_from_line\n",
            "    req = _parse_req_string(req_as_string)  # type: Optional[Requirement]\n",
            "  File \"/usr/local/lib/python3.7/dist-packages/pip/_internal/req/constructors.py\", line 355, in _parse_req_string\n",
            "    raise InstallationError(msg)\n",
            "pip._internal.exceptions.InstallationError: Invalid requirement: '=='\n",
            "Removed build tracker: '/tmp/pip-req-tracker-89ccx8vs'\n"
          ]
        }
      ]
    },
    {
      "cell_type": "markdown",
      "metadata": {
        "id": "yr8QZLzSrSHy"
      },
      "source": [
        "3. Обновить установленный ранее пакет `opencv-python`:"
      ]
    },
    {
      "cell_type": "code",
      "metadata": {
        "id": "wV1s1Q_mrXx1",
        "colab": {
          "base_uri": "https://localhost:8080/"
        },
        "outputId": "97211c7e-da83-4988-fa7d-3b3ec4e71a20"
      },
      "source": [
        "pip install opencv-python --upgrade"
      ],
      "execution_count": null,
      "outputs": [
        {
          "output_type": "stream",
          "name": "stdout",
          "text": [
            "Looking in indexes: https://pypi.org/simple, https://us-python.pkg.dev/colab-wheels/public/simple/\n",
            "Collecting opencv-python\n",
            "  Downloading opencv_python-4.6.0.66-cp36-abi3-manylinux_2_17_x86_64.manylinux2014_x86_64.whl (60.9 MB)\n",
            "\u001b[K     |████████████████████████████████| 60.9 MB 1.2 MB/s \n",
            "\u001b[?25hRequirement already satisfied: numpy>=1.14.5 in /usr/local/lib/python3.7/dist-packages (from opencv-python) (1.21.6)\n",
            "Installing collected packages: opencv-python\n",
            "Successfully installed opencv-python-4.6.0.66\n"
          ]
        }
      ]
    },
    {
      "cell_type": "markdown",
      "metadata": {
        "id": "612XfV_9rhWw"
      },
      "source": [
        "# **Функции в Python**"
      ]
    },
    {
      "cell_type": "markdown",
      "metadata": {
        "id": "CIVIN9EIriks"
      },
      "source": [
        "1. Создать функцию с названием `plus`, которая принимает три аргумента `a, b, c` и **возвращает** их сумму:"
      ]
    },
    {
      "cell_type": "code",
      "metadata": {
        "id": "BFYqcz_Cr2bU"
      },
      "source": [
        "def sum(a, b, c):\n",
        "  return a+b+c"
      ],
      "execution_count": null,
      "outputs": []
    },
    {
      "cell_type": "markdown",
      "metadata": {
        "id": "CHPC0iOBr2pn"
      },
      "source": [
        "2. Создать функцию с названием `show`, которая принимает один необязательный аргумент `a`, который по умолчанию равен 3 и выводит этот аргумент в консоль:"
      ]
    },
    {
      "cell_type": "code",
      "metadata": {
        "id": "niaCuq7wsfIv"
      },
      "source": [
        "def show(a=3):\n",
        "  return a"
      ],
      "execution_count": null,
      "outputs": []
    },
    {
      "cell_type": "markdown",
      "metadata": {
        "id": "6geyg74ysfU7"
      },
      "source": [
        "3. Создать функцию с названием `test`, которая принимает позиционные аргументы и складывает их в цикле между собой, затем возвращает получившееся значение (**учтите, что в эту функцию можно посылать только числовые значения**):"
      ]
    },
    {
      "cell_type": "code",
      "metadata": {
        "id": "F0hcI16vtRoC"
      },
      "source": [
        "def test(*args):\n",
        "  sum = 0\n",
        "  for n in args:\n",
        "    sum += args\n",
        "  return sum(args)"
      ],
      "execution_count": null,
      "outputs": []
    },
    {
      "cell_type": "markdown",
      "metadata": {
        "id": "Qvqf1NKytRze"
      },
      "source": [
        "4. Создать функцию с названием `test`, которая принимает именованные аргументы и проверяет, есть ли среди них аргумент с названием `example`, затем выводит в консоль `True` если есть или `False` если нет (для получения аргументов можно воспользоваться методом `kwargs.keys()`):"
      ]
    },
    {
      "cell_type": "code",
      "metadata": {
        "id": "2TiIbg58uL9R"
      },
      "source": [
        "def test(**args):\n",
        "  for n in args.keys():\n",
        "     if n == 'example':\n",
        "      return True\n",
        "  else:\n",
        "     return False"
      ],
      "execution_count": null,
      "outputs": []
    },
    {
      "cell_type": "markdown",
      "metadata": {
        "id": "RIWVU_sluwyE"
      },
      "source": [
        "5. Создать анонимную функцию, которая принимает один аргумент и перемножает его на себя, затем присвоить функцию переменной `mul`:"
      ]
    },
    {
      "cell_type": "code",
      "metadata": {
        "id": "Ru4EAusIuwIb"
      },
      "source": [
        "mul = lambda x: x*x"
      ],
      "execution_count": null,
      "outputs": []
    },
    {
      "cell_type": "markdown",
      "metadata": {
        "id": "vQ-zXPYZuafU"
      },
      "source": [
        "6. Создать функцию с названием `test`, которая в качестве аргументов принимает функцию из предыдущего задания и один аргумент `a`. Она посылает этот аргумент в переданную функцию:"
      ]
    },
    {
      "cell_type": "code",
      "metadata": {
        "id": "rvslINhrv1GH",
        "colab": {
          "base_uri": "https://localhost:8080/"
        },
        "outputId": "8bbf0e39-0341-4138-9bde-cb8dd975bb82"
      },
      "source": [
        "mul = lambda x: x*x\n",
        "def test(mul, a):\n",
        "  print(mul(a))\n",
        "\n",
        "test(mul, 7)"
      ],
      "execution_count": null,
      "outputs": [
        {
          "output_type": "stream",
          "name": "stdout",
          "text": [
            "49\n"
          ]
        }
      ]
    },
    {
      "cell_type": "markdown",
      "metadata": {
        "id": "xbdI77r7v0d_"
      },
      "source": [
        "# **Объектно-ориентированное программирование (ООП) в Python**"
      ]
    },
    {
      "cell_type": "markdown",
      "metadata": {
        "id": "OaJi_L6ev8ou"
      },
      "source": [
        "1. Создать класс `MyClass` с полем `prop` равным 5 и методом `show_prop`, который выводит значение поля `prop`:"
      ]
    },
    {
      "cell_type": "code",
      "metadata": {
        "id": "E1rCKyHfwWmZ"
      },
      "source": [
        "class MyClass:\n",
        "  prop = 5\n",
        "  def show_prop():\n",
        "    print(prop)"
      ],
      "execution_count": null,
      "outputs": []
    },
    {
      "cell_type": "markdown",
      "metadata": {
        "id": "esnazjFfwYjA"
      },
      "source": [
        "2. Создать четыре класса `A, B, C, D`, где класс `B` наследует класс `A`, а класс `C` наследует классы `A` и `D`:"
      ]
    },
    {
      "cell_type": "code",
      "metadata": {
        "id": "OMa_7OVrw8eL"
      },
      "source": [
        "class A():\n",
        " pass\n",
        "class D():\n",
        " pass\n",
        "class B(A):\n",
        " pass\n",
        "class C(A, D):\n",
        " pass"
      ],
      "execution_count": null,
      "outputs": []
    },
    {
      "cell_type": "markdown",
      "metadata": {
        "id": "unntAnRWxJfC"
      },
      "source": [
        "3. Создать класс `Circle`, который имеет радиус `R`, задаваемый при создании экземпляра класса. Использовать конструктор:"
      ]
    },
    {
      "cell_type": "code",
      "metadata": {
        "id": "atsEx2VYxI_V"
      },
      "source": [
        "class Circle():\n",
        "  def __init__(self, R):\n",
        "    pass"
      ],
      "execution_count": null,
      "outputs": []
    },
    {
      "cell_type": "markdown",
      "metadata": {
        "id": "8dffRlAbxyRk"
      },
      "source": [
        "4. Создать экземпляр класса `Circle`, созданного в предыдущем задании. Радиус равен 10:"
      ]
    },
    {
      "cell_type": "code",
      "metadata": {
        "id": "wKqm9SwHIKe-"
      },
      "source": [
        "ex = Circle(10)"
      ],
      "execution_count": null,
      "outputs": []
    },
    {
      "cell_type": "markdown",
      "metadata": {
        "id": "wnF8OjEgIK7j"
      },
      "source": [
        "5. Создать класс `MyClass` со **статическим** методом `show`, в котором выводится на экран надпись `\"Hello, world!\"`. Вызвать этот статический метод без создания экземпляра класса:"
      ]
    },
    {
      "cell_type": "code",
      "metadata": {
        "id": "r58YK1xaIjR5",
        "colab": {
          "base_uri": "https://localhost:8080/"
        },
        "outputId": "ef3ac036-e9cb-4cb6-a2c9-7a91ba674c60"
      },
      "source": [
        "class MyClass():\n",
        "  @staticmethod\n",
        "  def show():\n",
        "    print('Hello, world!')\n",
        "\n",
        "MyClass.show()"
      ],
      "execution_count": null,
      "outputs": [
        {
          "output_type": "stream",
          "name": "stdout",
          "text": [
            "Hello, world!\n"
          ]
        }
      ]
    },
    {
      "cell_type": "markdown",
      "metadata": {
        "id": "MASjtYluIun2"
      },
      "source": [
        "6. Создать класс `AreaRect`, который можно вызвать как функцию (реализовать метод `__call__`) принимающую два аргумента ширину и высоту прямоугольника и возвращающую его площадь. Так же у этого класса должен быть деструктор в котором выводится надпись `\"Этот объект будет удалён\"`. Создать экземпляр этого класса, вызвать и удалить его: "
      ]
    },
    {
      "cell_type": "code",
      "metadata": {
        "id": "NPVw7rqGJFgB",
        "colab": {
          "base_uri": "https://localhost:8080/"
        },
        "outputId": "4eda23b4-66e2-4bbf-c503-eeb8e7b6b7f8"
      },
      "source": [
        "class AreaRect():\n",
        "  def __call__(self, width, height):\n",
        "    return width * height\n",
        "  def __del__(self):\n",
        "    print(f\"Этот объект будет удалён\")\n",
        "\n",
        "obj = AreaRect()\n",
        "del obj"
      ],
      "execution_count": null,
      "outputs": [
        {
          "output_type": "stream",
          "name": "stdout",
          "text": [
            "Этот объект будет удалён\n"
          ]
        }
      ]
    },
    {
      "cell_type": "markdown",
      "metadata": {
        "id": "CUyY8giPJGWE"
      },
      "source": [
        "7. Создать класс `MyClass` с двумя приватными полями `prop1` и `prop2`, один из которых должен быть скрыт полностью (применяя `__`). Для скрытого полностью поля сделать методы геттер и сеттер:"
      ]
    },
    {
      "cell_type": "code",
      "metadata": {
        "id": "dCBOIxCvbxm7"
      },
      "source": [
        "class MyClass():\n",
        "  def _prop1():\n",
        "    pass\n",
        "  def __prop2():\n",
        "    def get_value(self):\n",
        "      return self._value\n",
        "    def set_value(self, value):\n",
        "      self._value = value\n"
      ],
      "execution_count": null,
      "outputs": []
    },
    {
      "cell_type": "markdown",
      "metadata": {
        "id": "aZhuEd1Hb_e-"
      },
      "source": [
        "8. Создать класс `Animal` с конструктором и методом `move` в котором будет выводиться в консоль фраза `\"Walk\"`, а так же создать класс `Bird` наследуемый от `Animal`, который вызывает коснтруктор родителя и переопределяет метод `move`, в котором должно выводиться в консоль `\"Fly\"`:"
      ]
    },
    {
      "cell_type": "code",
      "metadata": {
        "id": "9C1jyDsndOeD"
      },
      "source": [
        "class Animal():\n",
        "  def _init_(self):\n",
        "    pass\n",
        "  def move():\n",
        "    print(\"Walk\")\n",
        "\n",
        "class Bird(Animal):\n",
        "  def __init__(self):\n",
        "    super(Bird, self).__init__()\n",
        "    print(\"Fly\")"
      ],
      "execution_count": null,
      "outputs": []
    },
    {
      "cell_type": "markdown",
      "metadata": {
        "id": "8OWD2yuXeD3R"
      },
      "source": [
        "# **Генераторы**"
      ]
    },
    {
      "cell_type": "markdown",
      "metadata": {
        "id": "1ps37B5bgxLt"
      },
      "source": [
        "1. Создать генератор простым способом. Сгенерировать числа от 1 до 10 и вывести их в консоль:"
      ]
    },
    {
      "cell_type": "code",
      "metadata": {
        "id": "sGVp_714g9yd",
        "colab": {
          "base_uri": "https://localhost:8080/"
        },
        "outputId": "af008dda-61f5-487a-caae-b998dc32449c"
      },
      "source": [
        "gen = (i for i in range(1, 11))\n",
        "for i in gen:\n",
        "  print(i)"
      ],
      "execution_count": null,
      "outputs": [
        {
          "output_type": "stream",
          "name": "stdout",
          "text": [
            "1\n",
            "2\n",
            "3\n",
            "4\n",
            "5\n",
            "6\n",
            "7\n",
            "8\n",
            "9\n",
            "10\n"
          ]
        }
      ]
    },
    {
      "cell_type": "markdown",
      "metadata": {
        "id": "_S1OTR86g99X"
      },
      "source": [
        "2. Создать генератор вторым способом. Сгенерировать числа от 10 до 20 и вывести их в консоль:"
      ]
    },
    {
      "cell_type": "code",
      "metadata": {
        "id": "epFVTRldhI0l",
        "colab": {
          "base_uri": "https://localhost:8080/"
        },
        "outputId": "5fa30309-1eec-4625-8353-324e7c976dfd"
      },
      "source": [
        "def generator(n):\n",
        "  for i in range(10, n+1):\n",
        "    yield i\n",
        "gen = generator(20)\n",
        "for i in gen:\n",
        "  print(i)"
      ],
      "execution_count": null,
      "outputs": [
        {
          "output_type": "stream",
          "name": "stdout",
          "text": [
            "10\n",
            "11\n",
            "12\n",
            "13\n",
            "14\n",
            "15\n",
            "16\n",
            "17\n",
            "18\n",
            "19\n",
            "20\n"
          ]
        }
      ]
    },
    {
      "cell_type": "markdown",
      "metadata": {
        "id": "tWrlmM-qhJWe"
      },
      "source": [
        "3. Сгенерировать набо чисел от 0 до 15 и при выводе чисел на экран, если число больше 7, то остановить генератор (функция `close`):"
      ]
    },
    {
      "cell_type": "code",
      "metadata": {
        "id": "QPsStpH-hvbb",
        "colab": {
          "base_uri": "https://localhost:8080/"
        },
        "outputId": "c22b3f6b-f5e9-4899-c549-8b8df12a4856"
      },
      "source": [
        "gen = (i for i in range(0, 16))\n",
        "\n",
        "for i in gen:\n",
        "  print(i)\n",
        "  if i >= 6:\n",
        "    gen.close()\n"
      ],
      "execution_count": null,
      "outputs": [
        {
          "output_type": "stream",
          "name": "stdout",
          "text": [
            "0\n",
            "1\n",
            "2\n",
            "3\n",
            "4\n",
            "5\n",
            "6\n"
          ]
        }
      ]
    },
    {
      "cell_type": "markdown",
      "metadata": {
        "id": "VTdHg51Lhvnv"
      },
      "source": [
        "# **Итераторы**"
      ]
    },
    {
      "cell_type": "markdown",
      "metadata": {
        "id": "OxLxTa7hhzqi"
      },
      "source": [
        "1.  Создать класс `Iterator`, который генерирует чётные числа в заданном диапазоне. Для примера сгенерировать числа от 0 до 50:"
      ]
    },
    {
      "cell_type": "code",
      "metadata": {
        "id": "ENnPs5NAiIIo"
      },
      "source": [
        "class Iterator:\n",
        "  def __init__(self, start, end):\n",
        "    self._start = start\n",
        "    self._end = end\n",
        "\n",
        "  def __iter__(self):\n",
        "    return self\n",
        "  \n",
        "  def __next__(self):\n",
        "    if self._start > self._end:\n",
        "      raise StopIteration()\n",
        "    tmp = self._start\n",
        "    self._start = tmp + 2\n",
        "    return tmp\n",
        "\n",
        "iterator = Iterator(0, 50)\n",
        "for i in iterator:\n",
        "  print(i)"
      ],
      "execution_count": null,
      "outputs": []
    },
    {
      "cell_type": "markdown",
      "metadata": {
        "id": "TE90tWvfiIUs"
      },
      "source": [
        "# **Декораторы**"
      ]
    },
    {
      "cell_type": "markdown",
      "metadata": {
        "id": "gqVl7KBviMMo"
      },
      "source": [
        "1. Написать функцию `mul`, которая принимает два аргумента `a` и `b` и возвращает их произведение. Создать декоратор, который будет засекать время выполнения декорируемой функции. Время можно узнать при помощи функции `time() `из модуля `time` (`from time import time`). Сначала нужно узнать время до выполнения функции, затем после и вывести разность конца и начала в консоль. Применить декоратор к функции `mul` и вызвать эту функцию:"
      ]
    },
    {
      "cell_type": "code",
      "metadata": {
        "id": "hCMy7xmei8ma",
        "colab": {
          "base_uri": "https://localhost:8080/"
        },
        "outputId": "de649d79-abf1-4204-b124-dc9030fa472c"
      },
      "source": [
        "from time import time\n",
        "\n",
        "def decorator(function):\n",
        "  start = time()\n",
        "  def mul(a, b):\n",
        "    return a*b\n",
        "  finish = time()\n",
        "  return finish - start\n",
        "\n",
        "def test():\n",
        "  print(\"Hello\")\n",
        "t = decorator(test)\n",
        "t"
      ],
      "execution_count": null,
      "outputs": [
        {
          "output_type": "execute_result",
          "data": {
            "text/plain": [
              "9.5367431640625e-07"
            ]
          },
          "metadata": {},
          "execution_count": 23
        }
      ]
    },
    {
      "cell_type": "markdown",
      "metadata": {
        "id": "YtrAlgbzjzbr"
      },
      "source": [
        "# **Контекстные менеджеры**"
      ]
    },
    {
      "cell_type": "markdown",
      "metadata": {
        "id": "wzVlZ598ozoZ"
      },
      "source": [
        "1. Открыть файл (она сам создастся если его нет) `\"test.txt\"` в режиме записи (`\"w\"`) используя контекстный менеджер и записать в него фразу `\"Hello, world!\"`:"
      ]
    },
    {
      "cell_type": "code",
      "metadata": {
        "id": "LyHJtZ-SpRzP"
      },
      "source": [
        "file = open(\"myfile.txt\", \"w\")\n",
        "file.write(\"Hello, world!\")\n",
        "file.close()"
      ],
      "execution_count": null,
      "outputs": []
    },
    {
      "cell_type": "markdown",
      "metadata": {
        "id": "Gg4hP8NBpSCT"
      },
      "source": [
        "2. Создать класс `Animal`, который имеет поле name и оно инициализируется в конструкторе и выводится в консоль. Так же необходимо создать метод `sleep`, который выводит в консоль фразу `\"{name} is sleep\"`. Создать контекстный менеджер для класса `Animal`. Метод `__exit__` данного класса должен вызывать метод `sleep` класса `Animal`:"
      ]
    },
    {
      "cell_type": "code",
      "metadata": {
        "id": "7BBFVT_cqYHi"
      },
      "source": [
        "class Animal:\n",
        "    def sleep(name):\n",
        "        print(f'{name} is sleep')\n",
        "\n",
        "    def __exit__(self):\n",
        "        return sleep"
      ],
      "execution_count": null,
      "outputs": []
    },
    {
      "cell_type": "markdown",
      "metadata": {
        "id": "D7DmkQl_qYbG"
      },
      "source": [
        "# **Исключения**"
      ]
    },
    {
      "cell_type": "markdown",
      "metadata": {
        "id": "IHnDAF4JqfC_"
      },
      "source": [
        "1. Обернуть в блок `try:...except:...` код `not_exists_function()`. В `except` части необходимо вывести в консоль сообщение об ошибке:\n",
        "\n",
        "\n"
      ]
    },
    {
      "cell_type": "code",
      "source": [
        "try:\n",
        "  print(not_exists_function())\n",
        "except NameError as e:\n",
        "  print(e)"
      ],
      "metadata": {
        "id": "7YzJdcW319kd",
        "colab": {
          "base_uri": "https://localhost:8080/"
        },
        "outputId": "5e5a68ee-2788-4414-85f8-af0592e913e1"
      },
      "execution_count": null,
      "outputs": [
        {
          "output_type": "stream",
          "name": "stdout",
          "text": [
            "name 'not_exists_function' is not defined\n"
          ]
        }
      ]
    }
  ]
}