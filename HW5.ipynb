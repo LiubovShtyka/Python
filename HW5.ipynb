{
  "nbformat": 4,
  "nbformat_minor": 0,
  "metadata": {
    "kernelspec": {
      "display_name": "Python 3",
      "language": "python",
      "name": "python3"
    },
    "language_info": {
      "codemirror_mode": {
        "name": "ipython",
        "version": 3
      },
      "file_extension": ".py",
      "mimetype": "text/x-python",
      "name": "python",
      "nbconvert_exporter": "python",
      "pygments_lexer": "ipython3",
      "version": "3.6.8"
    },
    "colab": {
      "provenance": [],
      "collapsed_sections": []
    }
  },
  "cells": [
    {
      "cell_type": "markdown",
      "metadata": {
        "id": "u_7jYyzlmALE"
      },
      "source": [
        "<center>\n",
        "Открытый курс по машинному обучению. Сессия № 3\n",
        "Автор материала: программист-исследователь Mail.ru Group, старший преподаватель Факультета Компьютерных Наук ВШЭ Юрий Кашницкий. Материал распространяется на условиях лицензии [Creative Commons CC BY-NC-SA 4.0](https://creativecommons.org/licenses/by-nc-sa/4.0/). Можно использовать в любых целях (редактировать, поправлять и брать за основу), кроме коммерческих, но с обязательным упоминанием автора материала."
      ]
    },
    {
      "cell_type": "markdown",
      "metadata": {
        "id": "6uz4RnSYmALH"
      },
      "source": [
        "# <center> Домашнее задание № 1\n",
        "## <center> Анализ данных по сердечно-сосудистым заболеваниям\n",
        "*Идеальный просмотр Jupyter notebooks возможен только локально, GitHub и nbviewer могут неправильно отбражать формулы или картинки.*"
      ]
    },
    {
      "cell_type": "markdown",
      "metadata": {
        "id": "JCBN8WbEmALI"
      },
      "source": [
        "**В задании предлагается с помощью Pandas ответить на несколько вопросов по данным о сердечно-сосудистых заболеваниях (качать данные не надо, они уже есть в репозитории). Данные использовались в соревновании [Ml Boot Camp 5](http://mlbootcamp.ru/round/12/sandbox/).**\n",
        "\n",
        "**Заполните код в клетках (где написано \"Ваш код здесь\") и ответьте на вопросы.**"
      ]
    },
    {
      "cell_type": "markdown",
      "metadata": {
        "id": "eoUTLf83mALK"
      },
      "source": [
        "В соревновании предлагалось определить наличие/отсутствие сердечно-сосудистых заболеваний (ССЗ) по результатам осмотра пациента.\n",
        "\n",
        "**Описание данных.**\n",
        "\n",
        "Датасет сформирован из реальных клинических анализов, и в нём используются признаки, которые можно разбить на 3 группы:\n",
        "\n",
        "Объективные признаки:\n",
        "\n",
        " - Возраст (age)\n",
        " - Рост (height)\n",
        " - Вес (weight)\n",
        " - Пол (gender)\n",
        " \n",
        "---\n",
        "\n",
        "\n",
        "Результаты измерения:\n",
        "\n",
        " - Артериальное давление верхнее и нижнее (ap_hi, ap_lo)\n",
        " - Холестерин (cholesterol)\n",
        " - Глюкоза (gluc)\n",
        " \n",
        "\n",
        "\n",
        "---\n",
        "\n",
        "\n",
        "Субъективные признаки (со слов пациентов):\n",
        "\n",
        " - Курение (smoke)\n",
        " - Употребление алкоголя (alco)\n",
        " - Физическая активность (active)\n",
        " \n",
        "\n",
        "---\n",
        "\n",
        "\n",
        "Целевой признак (который интересно будет прогнозировать):\n",
        " - Наличие сердечно-сосудистых заболеваний по результатам классического врачебного осмотра (cardio)\n",
        "\n",
        "\n",
        "---\n",
        "\n",
        "\n",
        "Значения показателей холестерина и глюкозы представлены одним из трех классов: норма, выше нормы, значительно выше нормы. Значения субъективных признаков — бинарны.\n",
        "\n",
        "Все показатели даны на момент осмотра. "
      ]
    },
    {
      "cell_type": "markdown",
      "metadata": {
        "id": "R9C8wqLRmALP"
      },
      "source": [
        "Считываем данные из CSV-файла в объект pandas DataFrame.  "
      ]
    },
    {
      "cell_type": "code",
      "metadata": {
        "id": "waUFbX44mALQ"
      },
      "source": [
        "import pandas as pd\n",
        "import numpy as np"
      ],
      "execution_count": 2,
      "outputs": []
    },
    {
      "cell_type": "code",
      "metadata": {
        "id": "KfySO63LmALY"
      },
      "source": [
        "df = pd.read_csv(\"https://stepik.org/media/attachments/course/57984/train.csv\", \n",
        "                 sep=';',\n",
        "                 index_col='id')"
      ],
      "execution_count": 3,
      "outputs": []
    },
    {
      "cell_type": "code",
      "metadata": {
        "id": "dHhHUbXymALe",
        "colab": {
          "base_uri": "https://localhost:8080/",
          "height": 238
        },
        "outputId": "4399a201-93e7-433b-e872-cd6a8c69b04a"
      },
      "source": [
        "df.head()"
      ],
      "execution_count": 4,
      "outputs": [
        {
          "output_type": "execute_result",
          "data": {
            "text/plain": [
              "      age  gender  height  weight  ap_hi  ap_lo  cholesterol  gluc  smoke  \\\n",
              "id                                                                          \n",
              "0   18393       2     168    62.0    110     80            1     1      0   \n",
              "1   20228       1     156    85.0    140     90            3     1      0   \n",
              "2   18857       1     165    64.0    130     70            3     1      0   \n",
              "3   17623       2     169    82.0    150    100            1     1      0   \n",
              "4   17474       1     156    56.0    100     60            1     1      0   \n",
              "\n",
              "    alco  active  cardio  \n",
              "id                        \n",
              "0      0       1       0  \n",
              "1      0       1       1  \n",
              "2      0       0       1  \n",
              "3      0       1       1  \n",
              "4      0       0       0  "
            ],
            "text/html": [
              "\n",
              "  <div id=\"df-ed15c22d-4b11-4a87-9f81-b10a36d1286c\">\n",
              "    <div class=\"colab-df-container\">\n",
              "      <div>\n",
              "<style scoped>\n",
              "    .dataframe tbody tr th:only-of-type {\n",
              "        vertical-align: middle;\n",
              "    }\n",
              "\n",
              "    .dataframe tbody tr th {\n",
              "        vertical-align: top;\n",
              "    }\n",
              "\n",
              "    .dataframe thead th {\n",
              "        text-align: right;\n",
              "    }\n",
              "</style>\n",
              "<table border=\"1\" class=\"dataframe\">\n",
              "  <thead>\n",
              "    <tr style=\"text-align: right;\">\n",
              "      <th></th>\n",
              "      <th>age</th>\n",
              "      <th>gender</th>\n",
              "      <th>height</th>\n",
              "      <th>weight</th>\n",
              "      <th>ap_hi</th>\n",
              "      <th>ap_lo</th>\n",
              "      <th>cholesterol</th>\n",
              "      <th>gluc</th>\n",
              "      <th>smoke</th>\n",
              "      <th>alco</th>\n",
              "      <th>active</th>\n",
              "      <th>cardio</th>\n",
              "    </tr>\n",
              "    <tr>\n",
              "      <th>id</th>\n",
              "      <th></th>\n",
              "      <th></th>\n",
              "      <th></th>\n",
              "      <th></th>\n",
              "      <th></th>\n",
              "      <th></th>\n",
              "      <th></th>\n",
              "      <th></th>\n",
              "      <th></th>\n",
              "      <th></th>\n",
              "      <th></th>\n",
              "      <th></th>\n",
              "    </tr>\n",
              "  </thead>\n",
              "  <tbody>\n",
              "    <tr>\n",
              "      <th>0</th>\n",
              "      <td>18393</td>\n",
              "      <td>2</td>\n",
              "      <td>168</td>\n",
              "      <td>62.0</td>\n",
              "      <td>110</td>\n",
              "      <td>80</td>\n",
              "      <td>1</td>\n",
              "      <td>1</td>\n",
              "      <td>0</td>\n",
              "      <td>0</td>\n",
              "      <td>1</td>\n",
              "      <td>0</td>\n",
              "    </tr>\n",
              "    <tr>\n",
              "      <th>1</th>\n",
              "      <td>20228</td>\n",
              "      <td>1</td>\n",
              "      <td>156</td>\n",
              "      <td>85.0</td>\n",
              "      <td>140</td>\n",
              "      <td>90</td>\n",
              "      <td>3</td>\n",
              "      <td>1</td>\n",
              "      <td>0</td>\n",
              "      <td>0</td>\n",
              "      <td>1</td>\n",
              "      <td>1</td>\n",
              "    </tr>\n",
              "    <tr>\n",
              "      <th>2</th>\n",
              "      <td>18857</td>\n",
              "      <td>1</td>\n",
              "      <td>165</td>\n",
              "      <td>64.0</td>\n",
              "      <td>130</td>\n",
              "      <td>70</td>\n",
              "      <td>3</td>\n",
              "      <td>1</td>\n",
              "      <td>0</td>\n",
              "      <td>0</td>\n",
              "      <td>0</td>\n",
              "      <td>1</td>\n",
              "    </tr>\n",
              "    <tr>\n",
              "      <th>3</th>\n",
              "      <td>17623</td>\n",
              "      <td>2</td>\n",
              "      <td>169</td>\n",
              "      <td>82.0</td>\n",
              "      <td>150</td>\n",
              "      <td>100</td>\n",
              "      <td>1</td>\n",
              "      <td>1</td>\n",
              "      <td>0</td>\n",
              "      <td>0</td>\n",
              "      <td>1</td>\n",
              "      <td>1</td>\n",
              "    </tr>\n",
              "    <tr>\n",
              "      <th>4</th>\n",
              "      <td>17474</td>\n",
              "      <td>1</td>\n",
              "      <td>156</td>\n",
              "      <td>56.0</td>\n",
              "      <td>100</td>\n",
              "      <td>60</td>\n",
              "      <td>1</td>\n",
              "      <td>1</td>\n",
              "      <td>0</td>\n",
              "      <td>0</td>\n",
              "      <td>0</td>\n",
              "      <td>0</td>\n",
              "    </tr>\n",
              "  </tbody>\n",
              "</table>\n",
              "</div>\n",
              "      <button class=\"colab-df-convert\" onclick=\"convertToInteractive('df-ed15c22d-4b11-4a87-9f81-b10a36d1286c')\"\n",
              "              title=\"Convert this dataframe to an interactive table.\"\n",
              "              style=\"display:none;\">\n",
              "        \n",
              "  <svg xmlns=\"http://www.w3.org/2000/svg\" height=\"24px\"viewBox=\"0 0 24 24\"\n",
              "       width=\"24px\">\n",
              "    <path d=\"M0 0h24v24H0V0z\" fill=\"none\"/>\n",
              "    <path d=\"M18.56 5.44l.94 2.06.94-2.06 2.06-.94-2.06-.94-.94-2.06-.94 2.06-2.06.94zm-11 1L8.5 8.5l.94-2.06 2.06-.94-2.06-.94L8.5 2.5l-.94 2.06-2.06.94zm10 10l.94 2.06.94-2.06 2.06-.94-2.06-.94-.94-2.06-.94 2.06-2.06.94z\"/><path d=\"M17.41 7.96l-1.37-1.37c-.4-.4-.92-.59-1.43-.59-.52 0-1.04.2-1.43.59L10.3 9.45l-7.72 7.72c-.78.78-.78 2.05 0 2.83L4 21.41c.39.39.9.59 1.41.59.51 0 1.02-.2 1.41-.59l7.78-7.78 2.81-2.81c.8-.78.8-2.07 0-2.86zM5.41 20L4 18.59l7.72-7.72 1.47 1.35L5.41 20z\"/>\n",
              "  </svg>\n",
              "      </button>\n",
              "      \n",
              "  <style>\n",
              "    .colab-df-container {\n",
              "      display:flex;\n",
              "      flex-wrap:wrap;\n",
              "      gap: 12px;\n",
              "    }\n",
              "\n",
              "    .colab-df-convert {\n",
              "      background-color: #E8F0FE;\n",
              "      border: none;\n",
              "      border-radius: 50%;\n",
              "      cursor: pointer;\n",
              "      display: none;\n",
              "      fill: #1967D2;\n",
              "      height: 32px;\n",
              "      padding: 0 0 0 0;\n",
              "      width: 32px;\n",
              "    }\n",
              "\n",
              "    .colab-df-convert:hover {\n",
              "      background-color: #E2EBFA;\n",
              "      box-shadow: 0px 1px 2px rgba(60, 64, 67, 0.3), 0px 1px 3px 1px rgba(60, 64, 67, 0.15);\n",
              "      fill: #174EA6;\n",
              "    }\n",
              "\n",
              "    [theme=dark] .colab-df-convert {\n",
              "      background-color: #3B4455;\n",
              "      fill: #D2E3FC;\n",
              "    }\n",
              "\n",
              "    [theme=dark] .colab-df-convert:hover {\n",
              "      background-color: #434B5C;\n",
              "      box-shadow: 0px 1px 3px 1px rgba(0, 0, 0, 0.15);\n",
              "      filter: drop-shadow(0px 1px 2px rgba(0, 0, 0, 0.3));\n",
              "      fill: #FFFFFF;\n",
              "    }\n",
              "  </style>\n",
              "\n",
              "      <script>\n",
              "        const buttonEl =\n",
              "          document.querySelector('#df-ed15c22d-4b11-4a87-9f81-b10a36d1286c button.colab-df-convert');\n",
              "        buttonEl.style.display =\n",
              "          google.colab.kernel.accessAllowed ? 'block' : 'none';\n",
              "\n",
              "        async function convertToInteractive(key) {\n",
              "          const element = document.querySelector('#df-ed15c22d-4b11-4a87-9f81-b10a36d1286c');\n",
              "          const dataTable =\n",
              "            await google.colab.kernel.invokeFunction('convertToInteractive',\n",
              "                                                     [key], {});\n",
              "          if (!dataTable) return;\n",
              "\n",
              "          const docLinkHtml = 'Like what you see? Visit the ' +\n",
              "            '<a target=\"_blank\" href=https://colab.research.google.com/notebooks/data_table.ipynb>data table notebook</a>'\n",
              "            + ' to learn more about interactive tables.';\n",
              "          element.innerHTML = '';\n",
              "          dataTable['output_type'] = 'display_data';\n",
              "          await google.colab.output.renderOutput(dataTable, element);\n",
              "          const docLink = document.createElement('div');\n",
              "          docLink.innerHTML = docLinkHtml;\n",
              "          element.appendChild(docLink);\n",
              "        }\n",
              "      </script>\n",
              "    </div>\n",
              "  </div>\n",
              "  "
            ]
          },
          "metadata": {},
          "execution_count": 4
        }
      ]
    },
    {
      "cell_type": "markdown",
      "metadata": {
        "id": "OiongS-LmALm"
      },
      "source": [
        "**<font color='red'>Вопрос 1.</font> Сколько мужчин и женщин представлено в этом наборе данных? Не было дано расшифровки признака \"пол\" (какому полу соответствует 1, а какому – 2 в признаке ``gender``) – это определите, посмотрев также на рост при разумном предположении, что в среднем мужчины выше (здесь и далее под средним понимается среднее арифметическое).**"
      ]
    },
    {
      "cell_type": "markdown",
      "metadata": {
        "id": "-nOeVr2cmALo"
      },
      "source": [
        "**<font color='red'>Варианты:</font>**\n",
        "- 45470 женщин и 24530 мужчин\n",
        "- 45470 мужчин и 24530 женщин\n",
        "- 45530 женщин и 24470 мужчин\n",
        "- 45530 мужчин и 24470 женщин"
      ]
    },
    {
      "cell_type": "code",
      "metadata": {
        "id": "kC_5J-x9mALq",
        "colab": {
          "base_uri": "https://localhost:8080/"
        },
        "outputId": "a0ad86ac-62db-40ce-c138-d636ada47f4a"
      },
      "source": [
        "# Ваш код здесь\n",
        "print(\"{0} {1} и {2} {3}\".format(\n",
        "    df[df['gender'] == 1]['height'].count(),\n",
        "    \"женщин\" if df[df['gender'] == 1]['height'].mean() < df[df['gender'] == 2]['height'].mean() else \"мужчин\",\n",
        "    df[df['gender'] == 2]['height'].count(),\n",
        "    \"женщин\" if df[df['gender'] == 1]['height'].mean() > df[df['gender'] == 2]['height'].mean() else \"мужчин\"\n",
        "))\n"
      ],
      "execution_count": 5,
      "outputs": [
        {
          "output_type": "stream",
          "name": "stdout",
          "text": [
            "45530 женщин и 24470 мужчин\n"
          ]
        }
      ]
    },
    {
      "cell_type": "markdown",
      "metadata": {
        "id": "KAM1mHS8mALv"
      },
      "source": [
        "**<font color='red'>Вопрос 2.</font> Кто в среднем реже указывает, что употребляет алкоголь – мужчины или женщины?**"
      ]
    },
    {
      "cell_type": "markdown",
      "metadata": {
        "id": "bEPpAFinmALw"
      },
      "source": [
        "**<font color='red'>Варианты:</font>**\n",
        "- мужчины \n",
        "- женщины"
      ]
    },
    {
      "cell_type": "code",
      "metadata": {
        "id": "2JR-LBK8mALy",
        "colab": {
          "base_uri": "https://localhost:8080/"
        },
        "outputId": "fefd30dc-c783-4ae4-d876-676272878929"
      },
      "source": [
        "# Ваш код здесь\n",
        "print(\"женщины\" if df[df['gender'] == 1]['alco'].mean() > df[df['gender'] == 2]['alco'].mean() else \"мужчины\")"
      ],
      "execution_count": 6,
      "outputs": [
        {
          "output_type": "stream",
          "name": "stdout",
          "text": [
            "мужчины\n"
          ]
        }
      ]
    },
    {
      "cell_type": "markdown",
      "metadata": {
        "id": "eE-5psiimAL4"
      },
      "source": [
        "**<font color='red'>Вопрос 3.</font> Во сколько раз (округленно, `round`) процент курящих среди мужчин больше, чем процент курящих среди женщин (по крайней мере, по этим анкетным данным)?**"
      ]
    },
    {
      "cell_type": "markdown",
      "metadata": {
        "id": "ZKhCpK32mAL5"
      },
      "source": [
        "**<font color='red'>Варианты:</font>**\n",
        "- 4\n",
        "- 8\n",
        "- 12\n",
        "- 16"
      ]
    },
    {
      "cell_type": "code",
      "metadata": {
        "id": "mkI6Hz6zmAL8",
        "colab": {
          "base_uri": "https://localhost:8080/"
        },
        "outputId": "9cc5b65c-5eef-4cc1-ddca-09d2927778b7"
      },
      "source": [
        "# Ваш код здесь\n",
        "round((df[df['gender'] == 2]['smoke'].mean() * 100) / (df[df['gender'] == 1]['smoke'].mean() * 100))\n"
      ],
      "execution_count": 7,
      "outputs": [
        {
          "output_type": "execute_result",
          "data": {
            "text/plain": [
              "12"
            ]
          },
          "metadata": {},
          "execution_count": 7
        }
      ]
    },
    {
      "cell_type": "markdown",
      "metadata": {
        "id": "7ayNTHRsmAMC"
      },
      "source": [
        "**<font color='red'>Вопрос 4.</font> Вы наверняка заметили, что значения возраста какие-то странные. Догадайтесь, в чём здесь измеряется возраст, и ответьте, на сколько месяцев (примерно) отличаются средние значения возраста курящих и некурящих.**"
      ]
    },
    {
      "cell_type": "markdown",
      "metadata": {
        "id": "j_nahhGfmAMD"
      },
      "source": [
        "**<font color='red'>Варианты:</font>**\n",
        "- 10\n",
        "- 15\n",
        "- 20\n",
        "- 25"
      ]
    },
    {
      "cell_type": "code",
      "metadata": {
        "id": "Qo12mCe2mAMF",
        "colab": {
          "base_uri": "https://localhost:8080/"
        },
        "outputId": "b79df605-c156-4f80-945a-1b96d5c41f81"
      },
      "source": [
        "# Ваш код здесь\n",
        "round((df[df['smoke'] == 0]['age'].median() - df[df['smoke'] == 1]['age'].median()) / 365.25 * 12)\n"
      ],
      "execution_count": 8,
      "outputs": [
        {
          "output_type": "execute_result",
          "data": {
            "text/plain": [
              "20"
            ]
          },
          "metadata": {},
          "execution_count": 8
        }
      ]
    },
    {
      "cell_type": "markdown",
      "metadata": {
        "id": "vu0jR4K_mAMK"
      },
      "source": [
        "**<font color='red'>Вопрос 5.</font> В [статье](https://ru.wikipedia.org/wiki/Сердечно-сосудистый_риск) на Википедии про сердечно-сосудистый риск показана шкала SCORE для расчёта риска смерти от сердечно-сосудистого заболевания в ближайшие 10 лет. Вот она:**\n",
        "<img src='https://habrastorage.org/webt/gg/38/vf/gg38vfl5ql8obqjmlsvt9es76p8.png' width=70%>\n",
        "\n",
        "Давайте посмотрим на правый верхний прямоугольник, отображающий сегмент курящих мужчин в возрасте от 60 до 64 лет включительно. (Неочевидно, но тут для возраста и давления цифры означают верхнюю границу, и она не включается).\n",
        "\n",
        "Видим 9-ку в левом нижнем углу этого прямоугольника и 47 – в правом верхнем. То есть если при этом систолическое (т.е. верхнее) артериальное давление – меньше 120 мм рт.ст., а уровень холестерина – 4 ммоль/л, то риск ССЗ оценивается примерно в 5 раз ниже, чем если бы давление лежало в интервале [160, 180), а холестерина было бы 8 ммоль/л.\n",
        "\n",
        "Давайте посчитаем аналогичное значение, но на наших данных. \n",
        "\n",
        "\n",
        "---\n",
        "\n",
        "\n",
        "Уточнения:\n",
        "- Создайте новый признак ``age_years`` – возраст в годах, округлив до целых (`round`). Для данного примера отберите курящих мужчин от 60 до 64 лет включительно\n",
        "- Категории уровня холестрина на рисунке и в наших данных отличаются. Отображение значений на картинке в значения признака ``cholesterol`` следующее: 4 ммоль/л $\\rightarrow$ 1, 5-7 ммоль/л $\\rightarrow$ 2, 8 ммоль/л $\\rightarrow$ 3.\n",
        "- Интересуют 2 подвыборки курящих мужчин возраста от 60 до 64 лет включительно: первая с верхним артериальным давлением строго меньше 120 мм рт.ст. и концентрацией холестерина – 4 ммоль/л, а вторая – с верхним артериальным давлением от 160 (включительно) до 180 мм рт.ст. (не включительно) и концентрацией холестерина – 8 ммоль/л.\n",
        "\n",
        "Во сколько раз (округленно, `round`) отличаются доли больных людей (согласно целевому признаку, `cardio`) в этих двух подвыборках? Посчитайте на наших данных."
      ]
    },
    {
      "cell_type": "markdown",
      "metadata": {
        "id": "ophvGM9emAMM"
      },
      "source": [
        "**<font color='red'>Варианты:</font>**\n",
        "- 2\n",
        "- 3\n",
        "- 4\n",
        "- 5"
      ]
    },
    {
      "cell_type": "code",
      "metadata": {
        "id": "egu1QMV0mAMN",
        "colab": {
          "base_uri": "https://localhost:8080/"
        },
        "outputId": "105f32aa-274e-437a-891d-548959dfdd29"
      },
      "source": [
        "# Ваш код здесь\n",
        "df['age_years'] = round(df['age'] / 365) \n",
        "\n",
        "subdf = df[(df['age_years'] >= 60) & (df['age_years'] <= 64)]\n",
        "\n",
        "a, b = subdf[(subdf['ap_hi'] < 120) & (subdf['cholesterol'] == 1)].shape\n",
        "c, d = subdf[(subdf['ap_hi'] >= 160) & (subdf['ap_hi'] < 180) & (subdf['cholesterol'] == 3)].shape\n",
        "a//c"
      ],
      "execution_count": 17,
      "outputs": [
        {
          "output_type": "execute_result",
          "data": {
            "text/plain": [
              "4"
            ]
          },
          "metadata": {},
          "execution_count": 17
        }
      ]
    },
    {
      "cell_type": "markdown",
      "metadata": {
        "id": "Rl7XnYtbmAMS"
      },
      "source": [
        "**<font color='red'>Вопрос 6.</font> Постройте новый признак – BMI ([Body Mass Index](https://en.wikipedia.org/wiki/Body_mass_index)). Для этого надо вес в килограммах поделить на квадрат роста в метрах. Нормальными считаются значения BMI от 18.5 до 25. Выберите верные утверждения.**"
      ]
    },
    {
      "cell_type": "markdown",
      "metadata": {
        "id": "k_CuUtqTmAMT"
      },
      "source": [
        "**<font color='red'>Утверждения:</font>**\n",
        "- Медианный BMI по выборке превышает норму\n",
        "- У женщин в среднем BMI ниже, чем у мужчин\n",
        "- У здоровых в среднем BMI выше, чем у больных\n",
        "- В сегменте здоровых и непьющих мужчин в среднем BMI ближе к норме, чем в сегменте здоровых и непьющих женщин"
      ]
    },
    {
      "cell_type": "code",
      "metadata": {
        "id": "EjmW2eCNmAMV",
        "colab": {
          "base_uri": "https://localhost:8080/"
        },
        "outputId": "7d326f9b-7a80-4b32-fe4f-591e17bb1f9d"
      },
      "source": [
        "# Ваш код здесь\n",
        "df['BMI'] = df['weight'] / (df['height'] / 100) ** 2\n",
        "print(\n",
        "     df['BMI'].median() >= 18.5 and df['BMI'].median() <= 25, \"- \"\n",
        "    \"Медианный BMI по выборке лежит в пределах нормы\", \n",
        ")\n",
        "\n",
        "print(\n",
        "     df[df['gender'] == 1]['BMI'].mean() > df[df['gender'] == 2]['BMI'].mean(), \"- \"\n",
        "    \"У женщин в среднем BMI выше, чем у мужчин\", \n",
        ")\n",
        "\n",
        "print(\n",
        "    df[df['cardio'] == 0]['BMI'].mean() > df[df['cardio'] == 1]['BMI'].mean(), \"- \"\n",
        "    \"У здоровых в среднем BMI выше, чем у больных\"\n",
        ")\n",
        "\n",
        "subdf = df[(df['alco'] == 0) & (df['cardio'] == 0)]\n",
        "print(\n",
        "    (subdf[subdf['gender'] == 2]['BMI'].mean()) < (subdf[subdf['gender'] == 1]['BMI'].mean()), \"- \"\n",
        "    \"В сегменте здоровых и непьющих мужчин BMI ближе к норме, чем в сегменте здоровых и непьющих женщин\"\n",
        ")"
      ],
      "execution_count": 10,
      "outputs": [
        {
          "output_type": "stream",
          "name": "stdout",
          "text": [
            "False - Медианный BMI по выборке лежит в пределах нормы\n",
            "True - У женщин в среднем BMI выше, чем у мужчин\n",
            "False - У здоровых в среднем BMI выше, чем у больных\n",
            "True - В сегменте здоровых и непьющих мужчин BMI ближе к норме, чем в сегменте здоровых и непьющих женщин\n"
          ]
        }
      ]
    },
    {
      "cell_type": "markdown",
      "metadata": {
        "id": "oisaUazSmAMZ"
      },
      "source": [
        "**<font color='red'>Вопрос 7.</font> Cколько процентов (округленно, round) людей, отметивших, что они и курят, и пьют, занимаются физической активностью?**"
      ]
    },
    {
      "cell_type": "markdown",
      "metadata": {
        "id": "iS0ONt4HmAMb"
      },
      "source": [
        "**<font color='red'>Утверждения:</font>**\n",
        "- 85\n",
        "- 87\n",
        "- 3\n",
        "- 15"
      ]
    },
    {
      "cell_type": "code",
      "source": [
        "import math"
      ],
      "metadata": {
        "id": "5qqMjTXSL2Pf"
      },
      "execution_count": 11,
      "outputs": []
    },
    {
      "cell_type": "code",
      "metadata": {
        "id": "yBqtWFbcmAMc",
        "colab": {
          "base_uri": "https://localhost:8080/"
        },
        "outputId": "31f71433-de6e-4759-95cd-8f924d1af2e3"
      },
      "source": [
        "# Ваш код здесь\n",
        "n = df['gender'].count()\n",
        "m = (df[df['smoke'] == 1][df['alco'] == 1][df['active'] == 1]).count()*100/n\n",
        "math.ceil(m[1])"
      ],
      "execution_count": 12,
      "outputs": [
        {
          "output_type": "stream",
          "name": "stderr",
          "text": [
            "/usr/local/lib/python3.7/dist-packages/ipykernel_launcher.py:3: UserWarning: Boolean Series key will be reindexed to match DataFrame index.\n",
            "  This is separate from the ipykernel package so we can avoid doing imports until\n"
          ]
        },
        {
          "output_type": "execute_result",
          "data": {
            "text/plain": [
              "3"
            ]
          },
          "metadata": {},
          "execution_count": 12
        }
      ]
    },
    {
      "cell_type": "markdown",
      "metadata": {
        "id": "7vRFm-Tazbl2"
      },
      "source": [
        "**<font color='red'>График.</font> Изобразите на одном графике распределение по возрасту (в годах) в виде bar chart и количество людей с сердечно-сосудистыми заболеваниями в этих возрастных категориях**\n",
        "\n",
        "---\n",
        "\n"
      ]
    },
    {
      "cell_type": "code",
      "metadata": {
        "id": "CNtTngDKo_5s",
        "colab": {
          "base_uri": "https://localhost:8080/",
          "height": 352
        },
        "outputId": "6478d040-22a3-4d3c-bce4-a8da0ddf2e89"
      },
      "source": [
        "# Ваш код здесь\n",
        "import seaborn as sns\n",
        "import matplotlib.pyplot as plt\n",
        "\n",
        "df['age_years'] = round(df['age'] / 365) \n",
        "sns.catplot('age_years', hue='cardio', data=df, kind='count', height = 5, aspect = 3)"
      ],
      "execution_count": 22,
      "outputs": [
        {
          "output_type": "stream",
          "name": "stderr",
          "text": [
            "/usr/local/lib/python3.7/dist-packages/seaborn/_decorators.py:43: FutureWarning: Pass the following variable as a keyword arg: x. From version 0.12, the only valid positional argument will be `data`, and passing other arguments without an explicit keyword will result in an error or misinterpretation.\n",
            "  FutureWarning\n"
          ]
        },
        {
          "output_type": "execute_result",
          "data": {
            "text/plain": [
              "<seaborn.axisgrid.FacetGrid at 0x7fd4697d8310>"
            ]
          },
          "metadata": {},
          "execution_count": 22
        },
        {
          "output_type": "display_data",
          "data": {
            "text/plain": [
              "<Figure size 1122.38x360 with 1 Axes>"
            ],
            "image/png": "[encoded data removed]"
          },
          "metadata": {
            "needs_background": "light"
          }
        }
      ]
    },
    {
      "cell_type": "code",
      "source": [],
      "metadata": {
        "id": "pucPIfM-aouO"
      },
      "execution_count": null,
      "outputs": []
    }
  ]
}